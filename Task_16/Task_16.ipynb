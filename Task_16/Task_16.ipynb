{
 "cells": [
  {
   "cell_type": "markdown",
   "metadata": {},
   "source": [
    "Imporing Libraries"
   ]
  },
  {
   "cell_type": "code",
   "execution_count": 1,
   "metadata": {},
   "outputs": [],
   "source": [
    "import numpy as np\n",
    "import pandas as pd\n",
    "import matplotlib.pyplot as plt\n",
    "import seaborn as sns"
   ]
  },
  {
   "cell_type": "code",
   "execution_count": 2,
   "metadata": {},
   "outputs": [
    {
     "name": "stdout",
     "output_type": "stream",
     "text": [
      "Requirement already satisfied: openpyxl in c:\\users\\lenovo\\appdata\\local\\programs\\python\\python311\\lib\\site-packages (3.1.2)Note: you may need to restart the kernel to use updated packages.\n",
      "\n",
      "Requirement already satisfied: et-xmlfile in c:\\users\\lenovo\\appdata\\local\\programs\\python\\python311\\lib\\site-packages (from openpyxl) (1.1.0)\n"
     ]
    },
    {
     "name": "stderr",
     "output_type": "stream",
     "text": [
      "\n",
      "[notice] A new release of pip is available: 23.0 -> 23.1.2\n",
      "[notice] To update, run: python.exe -m pip install --upgrade pip\n"
     ]
    }
   ],
   "source": [
    "%pip install -U openpyxl"
   ]
  },
  {
   "cell_type": "code",
   "execution_count": null,
   "metadata": {},
   "outputs": [],
   "source": []
  },
  {
   "cell_type": "markdown",
   "metadata": {},
   "source": [
    "Loading the Dataset:"
   ]
  },
  {
   "cell_type": "code",
   "execution_count": 3,
   "metadata": {},
   "outputs": [
    {
     "data": {
      "text/html": [
       "<div>\n",
       "<style scoped>\n",
       "    .dataframe tbody tr th:only-of-type {\n",
       "        vertical-align: middle;\n",
       "    }\n",
       "\n",
       "    .dataframe tbody tr th {\n",
       "        vertical-align: top;\n",
       "    }\n",
       "\n",
       "    .dataframe thead th {\n",
       "        text-align: right;\n",
       "    }\n",
       "</style>\n",
       "<table border=\"1\" class=\"dataframe\">\n",
       "  <thead>\n",
       "    <tr style=\"text-align: right;\">\n",
       "      <th></th>\n",
       "      <th>Timestamp</th>\n",
       "      <th>Full Name (3 names at least)</th>\n",
       "      <th>Phone Number</th>\n",
       "      <th>Email</th>\n",
       "      <th>Faculty - Department</th>\n",
       "      <th>Academic Year</th>\n",
       "      <th>Date of birth</th>\n",
       "      <th>Facebook URL</th>\n",
       "      <th>LinkedIn URL (optional)</th>\n",
       "      <th>What do you know about Z Fast Racing Team?</th>\n",
       "      <th>How did you hear about us?</th>\n",
       "      <th>Do you have any volunteering experience?</th>\n",
       "      <th>If yes, what is your volunteering experience?</th>\n",
       "      <th>What do you know about electrical vehicle ?</th>\n",
       "      <th>What do you know about competition we participate ?</th>\n",
       "      <th>What do you seek to learn by joining Z Fast Team?</th>\n",
       "      <th>Any questions?</th>\n",
       "    </tr>\n",
       "  </thead>\n",
       "  <tbody>\n",
       "    <tr>\n",
       "      <th>0</th>\n",
       "      <td>2022-05-12 19:30:19.458</td>\n",
       "      <td>Mohamed Monir Mohamed</td>\n",
       "      <td>01210933802</td>\n",
       "      <td>mohameddobea13@gmail.com</td>\n",
       "      <td>Electrical engineering</td>\n",
       "      <td>3rd year</td>\n",
       "      <td>2000-11-11</td>\n",
       "      <td>https://www.facebook.com/Mohamed.Monir0</td>\n",
       "      <td>https://www.linkedin.com/in/mohamed-dobea-a911...</td>\n",
       "      <td>Z-Fast is the team that represents to Zagazig ...</td>\n",
       "      <td>Facebook</td>\n",
       "      <td>Yes</td>\n",
       "      <td>I have volunteered with AIESEC SOLVAKIAN organ...</td>\n",
       "      <td>It is an automotive vehicle that uses one or m...</td>\n",
       "      <td>EVER is giving young engineer the opportunity ...</td>\n",
       "      <td>I would like to improve my skills in embedded ...</td>\n",
       "      <td>NaN</td>\n",
       "    </tr>\n",
       "    <tr>\n",
       "      <th>1</th>\n",
       "      <td>2022-05-12 20:01:06.995</td>\n",
       "      <td>Mohammed Salah Aboshosha</td>\n",
       "      <td>01027463950</td>\n",
       "      <td>mohamedaboshosha12@gmail.com</td>\n",
       "      <td>Engineering - Electrical</td>\n",
       "      <td>2nd year</td>\n",
       "      <td>2001-10-27</td>\n",
       "      <td>https://www.facebook.com/Mohammedsalah.hasona</td>\n",
       "      <td>https://www.linkedin.com/in/mohammed-salah-hasona</td>\n",
       "      <td>Z Fast is a racing team which represents Zagaz...</td>\n",
       "      <td>Facebook, Friends</td>\n",
       "      <td>Yes</td>\n",
       "      <td>Joined zag eng family for about one and half y...</td>\n",
       "      <td>To sum up electrical vehicles are vehicles tha...</td>\n",
       "      <td>EVER competition as Z Fast got the best Innova...</td>\n",
       "      <td>Learning more about embedded systems and elect...</td>\n",
       "      <td>No thanks</td>\n",
       "    </tr>\n",
       "    <tr>\n",
       "      <th>2</th>\n",
       "      <td>2022-05-12 20:15:51.354</td>\n",
       "      <td>mohamed salah fathy abdelhamid</td>\n",
       "      <td>01004257855</td>\n",
       "      <td>medosalahmedo4@gmail.com</td>\n",
       "      <td>engengineering-mechatronics</td>\n",
       "      <td>3rd year</td>\n",
       "      <td>2000-11-17</td>\n",
       "      <td>https://www.facebook.com/medo.salah210/</td>\n",
       "      <td>NaN</td>\n",
       "      <td>its a team represents Zagazig University in El...</td>\n",
       "      <td>Facebook, Friends</td>\n",
       "      <td>No</td>\n",
       "      <td>this will be first time</td>\n",
       "      <td>An electric vehicle (EV) is one that uses an e...</td>\n",
       "      <td>i know that you make an electrical vehicle tha...</td>\n",
       "      <td>I am seeking to develop my skills in embedded ...</td>\n",
       "      <td>thanks</td>\n",
       "    </tr>\n",
       "    <tr>\n",
       "      <th>3</th>\n",
       "      <td>2022-05-12 20:17:26.297</td>\n",
       "      <td>Omar Saad Mohamed Saad Soliman</td>\n",
       "      <td>01149493914</td>\n",
       "      <td>mingosos13@gmail.com</td>\n",
       "      <td>Mechatronics</td>\n",
       "      <td>3rd year</td>\n",
       "      <td>2001-01-27</td>\n",
       "      <td>https://www.facebook.com/omar.saad.3726</td>\n",
       "      <td>https://www.linkedin.com/in/omar-soliman-a4198...</td>\n",
       "      <td>A team that makes an electric car and enter co...</td>\n",
       "      <td>Facebook, Friends, Faculty colleagues</td>\n",
       "      <td>No</td>\n",
       "      <td>no thing</td>\n",
       "      <td>They are new vehicle that run on electric batt...</td>\n",
       "      <td>no thing</td>\n",
       "      <td>New skills in communication and working by my ...</td>\n",
       "      <td>no</td>\n",
       "    </tr>\n",
       "    <tr>\n",
       "      <th>4</th>\n",
       "      <td>2022-05-12 20:30:14.318</td>\n",
       "      <td>ماجد علاء السيد محمد</td>\n",
       "      <td>01013414668</td>\n",
       "      <td>Magedalaazsc@gmail.com</td>\n",
       "      <td>كلية الهندسة - أولى كهربا</td>\n",
       "      <td>2nd year</td>\n",
       "      <td>2002-02-24</td>\n",
       "      <td>https://www.facebook.com/maged.alaa.315</td>\n",
       "      <td>NaN</td>\n",
       "      <td>تيم طموح بيعمل حاجة عندي الشغف اتعلمها واطلع ط...</td>\n",
       "      <td>Facebook, Friends</td>\n",
       "      <td>Yes</td>\n",
       "      <td>Zag Eng team ( for 6 months - now)\\nResala cha...</td>\n",
       "      <td>صديقة للبيئة وموفرة وهي حاجة جديد ففيها مجال ل...</td>\n",
       "      <td>اسمها EVER تقريبا وخاصة بتصميم وتشغيل سيارات ا...</td>\n",
       "      <td>اتعلم اردوينو مهم بالنسبالي جدا وكمان جزء ال E...</td>\n",
       "      <td>Thanks</td>\n",
       "    </tr>\n",
       "  </tbody>\n",
       "</table>\n",
       "</div>"
      ],
      "text/plain": [
       "                Timestamp    Full Name (3 names at least) Phone Number  \\\n",
       "0 2022-05-12 19:30:19.458           Mohamed Monir Mohamed  01210933802   \n",
       "1 2022-05-12 20:01:06.995        Mohammed Salah Aboshosha  01027463950   \n",
       "2 2022-05-12 20:15:51.354  mohamed salah fathy abdelhamid  01004257855   \n",
       "3 2022-05-12 20:17:26.297  Omar Saad Mohamed Saad Soliman  01149493914   \n",
       "4 2022-05-12 20:30:14.318            ماجد علاء السيد محمد  01013414668   \n",
       "\n",
       "                          Email         Faculty - Department Academic Year  \\\n",
       "0      mohameddobea13@gmail.com       Electrical engineering      3rd year   \n",
       "1  mohamedaboshosha12@gmail.com     Engineering - Electrical      2nd year   \n",
       "2      medosalahmedo4@gmail.com  engengineering-mechatronics      3rd year   \n",
       "3          mingosos13@gmail.com                 Mechatronics      3rd year   \n",
       "4        Magedalaazsc@gmail.com    كلية الهندسة - أولى كهربا      2nd year   \n",
       "\n",
       "  Date of birth                                   Facebook URL  \\\n",
       "0    2000-11-11        https://www.facebook.com/Mohamed.Monir0   \n",
       "1    2001-10-27  https://www.facebook.com/Mohammedsalah.hasona   \n",
       "2    2000-11-17        https://www.facebook.com/medo.salah210/   \n",
       "3    2001-01-27        https://www.facebook.com/omar.saad.3726   \n",
       "4    2002-02-24        https://www.facebook.com/maged.alaa.315   \n",
       "\n",
       "                             LinkedIn URL (optional)  \\\n",
       "0  https://www.linkedin.com/in/mohamed-dobea-a911...   \n",
       "1  https://www.linkedin.com/in/mohammed-salah-hasona   \n",
       "2                                                NaN   \n",
       "3  https://www.linkedin.com/in/omar-soliman-a4198...   \n",
       "4                                                NaN   \n",
       "\n",
       "          What do you know about Z Fast Racing Team?  \\\n",
       "0  Z-Fast is the team that represents to Zagazig ...   \n",
       "1  Z Fast is a racing team which represents Zagaz...   \n",
       "2  its a team represents Zagazig University in El...   \n",
       "3  A team that makes an electric car and enter co...   \n",
       "4  تيم طموح بيعمل حاجة عندي الشغف اتعلمها واطلع ط...   \n",
       "\n",
       "              How did you hear about us?  \\\n",
       "0                               Facebook   \n",
       "1                      Facebook, Friends   \n",
       "2                      Facebook, Friends   \n",
       "3  Facebook, Friends, Faculty colleagues   \n",
       "4                      Facebook, Friends   \n",
       "\n",
       "  Do you have any volunteering experience?  \\\n",
       "0                                      Yes   \n",
       "1                                      Yes   \n",
       "2                                       No   \n",
       "3                                       No   \n",
       "4                                      Yes   \n",
       "\n",
       "       If yes, what is your volunteering experience?  \\\n",
       "0  I have volunteered with AIESEC SOLVAKIAN organ...   \n",
       "1  Joined zag eng family for about one and half y...   \n",
       "2                            this will be first time   \n",
       "3                                           no thing   \n",
       "4  Zag Eng team ( for 6 months - now)\\nResala cha...   \n",
       "\n",
       "         What do you know about electrical vehicle ?  \\\n",
       "0  It is an automotive vehicle that uses one or m...   \n",
       "1  To sum up electrical vehicles are vehicles tha...   \n",
       "2  An electric vehicle (EV) is one that uses an e...   \n",
       "3  They are new vehicle that run on electric batt...   \n",
       "4  صديقة للبيئة وموفرة وهي حاجة جديد ففيها مجال ل...   \n",
       "\n",
       "  What do you know about competition we participate ?  \\\n",
       "0  EVER is giving young engineer the opportunity ...    \n",
       "1  EVER competition as Z Fast got the best Innova...    \n",
       "2  i know that you make an electrical vehicle tha...    \n",
       "3                                           no thing    \n",
       "4  اسمها EVER تقريبا وخاصة بتصميم وتشغيل سيارات ا...    \n",
       "\n",
       "   What do you seek to learn by joining Z Fast Team? Any questions?  \n",
       "0  I would like to improve my skills in embedded ...            NaN  \n",
       "1  Learning more about embedded systems and elect...      No thanks  \n",
       "2  I am seeking to develop my skills in embedded ...         thanks  \n",
       "3  New skills in communication and working by my ...             no  \n",
       "4  اتعلم اردوينو مهم بالنسبالي جدا وكمان جزء ال E...         Thanks  "
      ]
     },
     "execution_count": 3,
     "metadata": {},
     "output_type": "execute_result"
    }
   ],
   "source": [
    "data = pd.read_excel('ZF_Elec_Responses.xlsx')\n",
    "data.head()"
   ]
  },
  {
   "cell_type": "code",
   "execution_count": null,
   "metadata": {},
   "outputs": [],
   "source": []
  },
  {
   "cell_type": "markdown",
   "metadata": {},
   "source": [
    "Data Exploration:"
   ]
  },
  {
   "cell_type": "code",
   "execution_count": 4,
   "metadata": {},
   "outputs": [
    {
     "name": "stdout",
     "output_type": "stream",
     "text": [
      "<class 'pandas.core.frame.DataFrame'>\n",
      "RangeIndex: 90 entries, 0 to 89\n",
      "Data columns (total 17 columns):\n",
      " #   Column                                               Non-Null Count  Dtype         \n",
      "---  ------                                               --------------  -----         \n",
      " 0   Timestamp                                            90 non-null     datetime64[ns]\n",
      " 1   Full Name (3 names at least)                         90 non-null     object        \n",
      " 2   Phone Number                                         90 non-null     object        \n",
      " 3   Email                                                90 non-null     object        \n",
      " 4   Faculty - Department                                 90 non-null     object        \n",
      " 5   Academic Year                                        90 non-null     object        \n",
      " 6   Date of birth                                        90 non-null     datetime64[ns]\n",
      " 7   Facebook URL                                         90 non-null     object        \n",
      " 8   LinkedIn URL (optional)                              58 non-null     object        \n",
      " 9   What do you know about Z Fast Racing Team?           90 non-null     object        \n",
      " 10  How did you hear about us?                           90 non-null     object        \n",
      " 11  Do you have any volunteering experience?             90 non-null     object        \n",
      " 12  If yes, what is your volunteering experience?        90 non-null     object        \n",
      " 13  What do you know about electrical vehicle ?          83 non-null     object        \n",
      " 14  What do you know about competition we participate ?  73 non-null     object        \n",
      " 15  What do you seek to learn by joining Z Fast Team?    90 non-null     object        \n",
      " 16  Any questions?                                       51 non-null     object        \n",
      "dtypes: datetime64[ns](2), object(15)\n",
      "memory usage: 12.1+ KB\n"
     ]
    }
   ],
   "source": [
    "data.info()"
   ]
  },
  {
   "cell_type": "code",
   "execution_count": 5,
   "metadata": {},
   "outputs": [
    {
     "data": {
      "text/html": [
       "<div>\n",
       "<style scoped>\n",
       "    .dataframe tbody tr th:only-of-type {\n",
       "        vertical-align: middle;\n",
       "    }\n",
       "\n",
       "    .dataframe tbody tr th {\n",
       "        vertical-align: top;\n",
       "    }\n",
       "\n",
       "    .dataframe thead th {\n",
       "        text-align: right;\n",
       "    }\n",
       "</style>\n",
       "<table border=\"1\" class=\"dataframe\">\n",
       "  <thead>\n",
       "    <tr style=\"text-align: right;\">\n",
       "      <th></th>\n",
       "      <th>Timestamp</th>\n",
       "      <th>Date of birth</th>\n",
       "    </tr>\n",
       "  </thead>\n",
       "  <tbody>\n",
       "    <tr>\n",
       "      <th>count</th>\n",
       "      <td>90</td>\n",
       "      <td>90</td>\n",
       "    </tr>\n",
       "    <tr>\n",
       "      <th>mean</th>\n",
       "      <td>2022-05-16 14:19:37.358110976</td>\n",
       "      <td>2002-04-12 01:20:00</td>\n",
       "    </tr>\n",
       "    <tr>\n",
       "      <th>min</th>\n",
       "      <td>2022-05-12 19:30:19.458000</td>\n",
       "      <td>1991-04-04 00:00:00</td>\n",
       "    </tr>\n",
       "    <tr>\n",
       "      <th>25%</th>\n",
       "      <td>2022-05-13 02:25:51.698499840</td>\n",
       "      <td>2001-04-06 12:00:00</td>\n",
       "    </tr>\n",
       "    <tr>\n",
       "      <th>50%</th>\n",
       "      <td>2022-05-15 19:19:32.312999936</td>\n",
       "      <td>2001-12-25 12:00:00</td>\n",
       "    </tr>\n",
       "    <tr>\n",
       "      <th>75%</th>\n",
       "      <td>2022-05-17 22:42:34.886000128</td>\n",
       "      <td>2002-08-12 06:00:00</td>\n",
       "    </tr>\n",
       "    <tr>\n",
       "      <th>max</th>\n",
       "      <td>2022-05-25 20:58:33.757000</td>\n",
       "      <td>2022-05-17 00:00:00</td>\n",
       "    </tr>\n",
       "  </tbody>\n",
       "</table>\n",
       "</div>"
      ],
      "text/plain": [
       "                           Timestamp        Date of birth\n",
       "count                             90                   90\n",
       "mean   2022-05-16 14:19:37.358110976  2002-04-12 01:20:00\n",
       "min       2022-05-12 19:30:19.458000  1991-04-04 00:00:00\n",
       "25%    2022-05-13 02:25:51.698499840  2001-04-06 12:00:00\n",
       "50%    2022-05-15 19:19:32.312999936  2001-12-25 12:00:00\n",
       "75%    2022-05-17 22:42:34.886000128  2002-08-12 06:00:00\n",
       "max       2022-05-25 20:58:33.757000  2022-05-17 00:00:00"
      ]
     },
     "execution_count": 5,
     "metadata": {},
     "output_type": "execute_result"
    }
   ],
   "source": [
    "data.describe()"
   ]
  },
  {
   "cell_type": "code",
   "execution_count": 6,
   "metadata": {},
   "outputs": [
    {
     "data": {
      "text/plain": [
       "(90, 17)"
      ]
     },
     "execution_count": 6,
     "metadata": {},
     "output_type": "execute_result"
    }
   ],
   "source": [
    "data.shape"
   ]
  },
  {
   "cell_type": "markdown",
   "metadata": {},
   "source": [
    "Data Cleaning"
   ]
  },
  {
   "cell_type": "code",
   "execution_count": 7,
   "metadata": {},
   "outputs": [
    {
     "data": {
      "text/html": [
       "<div>\n",
       "<style scoped>\n",
       "    .dataframe tbody tr th:only-of-type {\n",
       "        vertical-align: middle;\n",
       "    }\n",
       "\n",
       "    .dataframe tbody tr th {\n",
       "        vertical-align: top;\n",
       "    }\n",
       "\n",
       "    .dataframe thead th {\n",
       "        text-align: right;\n",
       "    }\n",
       "</style>\n",
       "<table border=\"1\" class=\"dataframe\">\n",
       "  <thead>\n",
       "    <tr style=\"text-align: right;\">\n",
       "      <th></th>\n",
       "      <th>Timestamp</th>\n",
       "      <th>Full Name (3 names at least)</th>\n",
       "      <th>Phone Number</th>\n",
       "      <th>Email</th>\n",
       "      <th>Faculty - Department</th>\n",
       "      <th>Academic Year</th>\n",
       "      <th>Date of birth</th>\n",
       "      <th>Facebook URL</th>\n",
       "      <th>LinkedIn URL (optional)</th>\n",
       "      <th>What do you know about Z Fast Racing Team?</th>\n",
       "      <th>How did you hear about us?</th>\n",
       "      <th>Do you have any volunteering experience?</th>\n",
       "      <th>If yes, what is your volunteering experience?</th>\n",
       "      <th>What do you know about electrical vehicle ?</th>\n",
       "      <th>What do you know about competition we participate ?</th>\n",
       "      <th>What do you seek to learn by joining Z Fast Team?</th>\n",
       "      <th>Any questions?</th>\n",
       "    </tr>\n",
       "  </thead>\n",
       "  <tbody>\n",
       "    <tr>\n",
       "      <th>0</th>\n",
       "      <td>False</td>\n",
       "      <td>False</td>\n",
       "      <td>False</td>\n",
       "      <td>False</td>\n",
       "      <td>False</td>\n",
       "      <td>False</td>\n",
       "      <td>False</td>\n",
       "      <td>False</td>\n",
       "      <td>False</td>\n",
       "      <td>False</td>\n",
       "      <td>False</td>\n",
       "      <td>False</td>\n",
       "      <td>False</td>\n",
       "      <td>False</td>\n",
       "      <td>False</td>\n",
       "      <td>False</td>\n",
       "      <td>True</td>\n",
       "    </tr>\n",
       "    <tr>\n",
       "      <th>1</th>\n",
       "      <td>False</td>\n",
       "      <td>False</td>\n",
       "      <td>False</td>\n",
       "      <td>False</td>\n",
       "      <td>False</td>\n",
       "      <td>False</td>\n",
       "      <td>False</td>\n",
       "      <td>False</td>\n",
       "      <td>False</td>\n",
       "      <td>False</td>\n",
       "      <td>False</td>\n",
       "      <td>False</td>\n",
       "      <td>False</td>\n",
       "      <td>False</td>\n",
       "      <td>False</td>\n",
       "      <td>False</td>\n",
       "      <td>False</td>\n",
       "    </tr>\n",
       "    <tr>\n",
       "      <th>2</th>\n",
       "      <td>False</td>\n",
       "      <td>False</td>\n",
       "      <td>False</td>\n",
       "      <td>False</td>\n",
       "      <td>False</td>\n",
       "      <td>False</td>\n",
       "      <td>False</td>\n",
       "      <td>False</td>\n",
       "      <td>True</td>\n",
       "      <td>False</td>\n",
       "      <td>False</td>\n",
       "      <td>False</td>\n",
       "      <td>False</td>\n",
       "      <td>False</td>\n",
       "      <td>False</td>\n",
       "      <td>False</td>\n",
       "      <td>False</td>\n",
       "    </tr>\n",
       "    <tr>\n",
       "      <th>3</th>\n",
       "      <td>False</td>\n",
       "      <td>False</td>\n",
       "      <td>False</td>\n",
       "      <td>False</td>\n",
       "      <td>False</td>\n",
       "      <td>False</td>\n",
       "      <td>False</td>\n",
       "      <td>False</td>\n",
       "      <td>False</td>\n",
       "      <td>False</td>\n",
       "      <td>False</td>\n",
       "      <td>False</td>\n",
       "      <td>False</td>\n",
       "      <td>False</td>\n",
       "      <td>False</td>\n",
       "      <td>False</td>\n",
       "      <td>False</td>\n",
       "    </tr>\n",
       "    <tr>\n",
       "      <th>4</th>\n",
       "      <td>False</td>\n",
       "      <td>False</td>\n",
       "      <td>False</td>\n",
       "      <td>False</td>\n",
       "      <td>False</td>\n",
       "      <td>False</td>\n",
       "      <td>False</td>\n",
       "      <td>False</td>\n",
       "      <td>True</td>\n",
       "      <td>False</td>\n",
       "      <td>False</td>\n",
       "      <td>False</td>\n",
       "      <td>False</td>\n",
       "      <td>False</td>\n",
       "      <td>False</td>\n",
       "      <td>False</td>\n",
       "      <td>False</td>\n",
       "    </tr>\n",
       "    <tr>\n",
       "      <th>...</th>\n",
       "      <td>...</td>\n",
       "      <td>...</td>\n",
       "      <td>...</td>\n",
       "      <td>...</td>\n",
       "      <td>...</td>\n",
       "      <td>...</td>\n",
       "      <td>...</td>\n",
       "      <td>...</td>\n",
       "      <td>...</td>\n",
       "      <td>...</td>\n",
       "      <td>...</td>\n",
       "      <td>...</td>\n",
       "      <td>...</td>\n",
       "      <td>...</td>\n",
       "      <td>...</td>\n",
       "      <td>...</td>\n",
       "      <td>...</td>\n",
       "    </tr>\n",
       "    <tr>\n",
       "      <th>85</th>\n",
       "      <td>False</td>\n",
       "      <td>False</td>\n",
       "      <td>False</td>\n",
       "      <td>False</td>\n",
       "      <td>False</td>\n",
       "      <td>False</td>\n",
       "      <td>False</td>\n",
       "      <td>False</td>\n",
       "      <td>False</td>\n",
       "      <td>False</td>\n",
       "      <td>False</td>\n",
       "      <td>False</td>\n",
       "      <td>False</td>\n",
       "      <td>False</td>\n",
       "      <td>False</td>\n",
       "      <td>False</td>\n",
       "      <td>False</td>\n",
       "    </tr>\n",
       "    <tr>\n",
       "      <th>86</th>\n",
       "      <td>False</td>\n",
       "      <td>False</td>\n",
       "      <td>False</td>\n",
       "      <td>False</td>\n",
       "      <td>False</td>\n",
       "      <td>False</td>\n",
       "      <td>False</td>\n",
       "      <td>False</td>\n",
       "      <td>False</td>\n",
       "      <td>False</td>\n",
       "      <td>False</td>\n",
       "      <td>False</td>\n",
       "      <td>False</td>\n",
       "      <td>False</td>\n",
       "      <td>False</td>\n",
       "      <td>False</td>\n",
       "      <td>False</td>\n",
       "    </tr>\n",
       "    <tr>\n",
       "      <th>87</th>\n",
       "      <td>False</td>\n",
       "      <td>False</td>\n",
       "      <td>False</td>\n",
       "      <td>False</td>\n",
       "      <td>False</td>\n",
       "      <td>False</td>\n",
       "      <td>False</td>\n",
       "      <td>False</td>\n",
       "      <td>False</td>\n",
       "      <td>False</td>\n",
       "      <td>False</td>\n",
       "      <td>False</td>\n",
       "      <td>False</td>\n",
       "      <td>False</td>\n",
       "      <td>False</td>\n",
       "      <td>False</td>\n",
       "      <td>False</td>\n",
       "    </tr>\n",
       "    <tr>\n",
       "      <th>88</th>\n",
       "      <td>False</td>\n",
       "      <td>False</td>\n",
       "      <td>False</td>\n",
       "      <td>False</td>\n",
       "      <td>False</td>\n",
       "      <td>False</td>\n",
       "      <td>False</td>\n",
       "      <td>False</td>\n",
       "      <td>True</td>\n",
       "      <td>False</td>\n",
       "      <td>False</td>\n",
       "      <td>False</td>\n",
       "      <td>False</td>\n",
       "      <td>False</td>\n",
       "      <td>False</td>\n",
       "      <td>False</td>\n",
       "      <td>False</td>\n",
       "    </tr>\n",
       "    <tr>\n",
       "      <th>89</th>\n",
       "      <td>False</td>\n",
       "      <td>False</td>\n",
       "      <td>False</td>\n",
       "      <td>False</td>\n",
       "      <td>False</td>\n",
       "      <td>False</td>\n",
       "      <td>False</td>\n",
       "      <td>False</td>\n",
       "      <td>False</td>\n",
       "      <td>False</td>\n",
       "      <td>False</td>\n",
       "      <td>False</td>\n",
       "      <td>False</td>\n",
       "      <td>False</td>\n",
       "      <td>False</td>\n",
       "      <td>False</td>\n",
       "      <td>False</td>\n",
       "    </tr>\n",
       "  </tbody>\n",
       "</table>\n",
       "<p>90 rows × 17 columns</p>\n",
       "</div>"
      ],
      "text/plain": [
       "    Timestamp  Full Name (3 names at least)  Phone Number  Email  \\\n",
       "0       False                         False         False  False   \n",
       "1       False                         False         False  False   \n",
       "2       False                         False         False  False   \n",
       "3       False                         False         False  False   \n",
       "4       False                         False         False  False   \n",
       "..        ...                           ...           ...    ...   \n",
       "85      False                         False         False  False   \n",
       "86      False                         False         False  False   \n",
       "87      False                         False         False  False   \n",
       "88      False                         False         False  False   \n",
       "89      False                         False         False  False   \n",
       "\n",
       "    Faculty - Department  Academic Year  Date of birth  Facebook URL  \\\n",
       "0                  False          False          False         False   \n",
       "1                  False          False          False         False   \n",
       "2                  False          False          False         False   \n",
       "3                  False          False          False         False   \n",
       "4                  False          False          False         False   \n",
       "..                   ...            ...            ...           ...   \n",
       "85                 False          False          False         False   \n",
       "86                 False          False          False         False   \n",
       "87                 False          False          False         False   \n",
       "88                 False          False          False         False   \n",
       "89                 False          False          False         False   \n",
       "\n",
       "    LinkedIn URL (optional)  What do you know about Z Fast Racing Team?  \\\n",
       "0                     False                                       False   \n",
       "1                     False                                       False   \n",
       "2                      True                                       False   \n",
       "3                     False                                       False   \n",
       "4                      True                                       False   \n",
       "..                      ...                                         ...   \n",
       "85                    False                                       False   \n",
       "86                    False                                       False   \n",
       "87                    False                                       False   \n",
       "88                     True                                       False   \n",
       "89                    False                                       False   \n",
       "\n",
       "    How did you hear about us?  Do you have any volunteering experience?  \\\n",
       "0                        False                                     False   \n",
       "1                        False                                     False   \n",
       "2                        False                                     False   \n",
       "3                        False                                     False   \n",
       "4                        False                                     False   \n",
       "..                         ...                                       ...   \n",
       "85                       False                                     False   \n",
       "86                       False                                     False   \n",
       "87                       False                                     False   \n",
       "88                       False                                     False   \n",
       "89                       False                                     False   \n",
       "\n",
       "    If yes, what is your volunteering experience?  \\\n",
       "0                                           False   \n",
       "1                                           False   \n",
       "2                                           False   \n",
       "3                                           False   \n",
       "4                                           False   \n",
       "..                                            ...   \n",
       "85                                          False   \n",
       "86                                          False   \n",
       "87                                          False   \n",
       "88                                          False   \n",
       "89                                          False   \n",
       "\n",
       "    What do you know about electrical vehicle ?  \\\n",
       "0                                         False   \n",
       "1                                         False   \n",
       "2                                         False   \n",
       "3                                         False   \n",
       "4                                         False   \n",
       "..                                          ...   \n",
       "85                                        False   \n",
       "86                                        False   \n",
       "87                                        False   \n",
       "88                                        False   \n",
       "89                                        False   \n",
       "\n",
       "    What do you know about competition we participate ?  \\\n",
       "0                                               False     \n",
       "1                                               False     \n",
       "2                                               False     \n",
       "3                                               False     \n",
       "4                                               False     \n",
       "..                                                ...     \n",
       "85                                              False     \n",
       "86                                              False     \n",
       "87                                              False     \n",
       "88                                              False     \n",
       "89                                              False     \n",
       "\n",
       "    What do you seek to learn by joining Z Fast Team?  Any questions?  \n",
       "0                                               False            True  \n",
       "1                                               False           False  \n",
       "2                                               False           False  \n",
       "3                                               False           False  \n",
       "4                                               False           False  \n",
       "..                                                ...             ...  \n",
       "85                                              False           False  \n",
       "86                                              False           False  \n",
       "87                                              False           False  \n",
       "88                                              False           False  \n",
       "89                                              False           False  \n",
       "\n",
       "[90 rows x 17 columns]"
      ]
     },
     "execution_count": 7,
     "metadata": {},
     "output_type": "execute_result"
    }
   ],
   "source": [
    "data.isnull()"
   ]
  },
  {
   "cell_type": "code",
   "execution_count": 8,
   "metadata": {},
   "outputs": [
    {
     "data": {
      "text/plain": [
       "Timestamp                                              90\n",
       "Full Name (3 names at least)                           90\n",
       "Phone Number                                           90\n",
       "Email                                                  90\n",
       "Faculty - Department                                   90\n",
       "Academic Year                                          90\n",
       "Date of birth                                          90\n",
       "Facebook URL                                           90\n",
       "LinkedIn URL (optional)                                90\n",
       "What do you know about Z Fast Racing Team?             90\n",
       "How did you hear about us?                             90\n",
       "Do you have any volunteering experience?               90\n",
       "If yes, what is your volunteering experience?          90\n",
       "What do you know about electrical vehicle ?            90\n",
       "What do you know about competition we participate ?    90\n",
       "What do you seek to learn by joining Z Fast Team?      90\n",
       "Any questions?                                         90\n",
       "dtype: int64"
      ]
     },
     "execution_count": 8,
     "metadata": {},
     "output_type": "execute_result"
    }
   ],
   "source": [
    "# Check for missing data\n",
    "data.isnull().count()   "
   ]
  },
  {
   "cell_type": "code",
   "execution_count": null,
   "metadata": {},
   "outputs": [],
   "source": []
  },
  {
   "cell_type": "markdown",
   "metadata": {},
   "source": [
    "Data Visualization"
   ]
  },
  {
   "cell_type": "code",
   "execution_count": 9,
   "metadata": {},
   "outputs": [
    {
     "data": {
      "text/plain": [
       "Timestamp('2002-04-12 01:20:00')"
      ]
     },
     "execution_count": 9,
     "metadata": {},
     "output_type": "execute_result"
    }
   ],
   "source": [
    "# Calculate mean and standard deviation of Date of birth column\n",
    "mean_age = data['Date of birth'].mean()\n",
    "mean_age\n"
   ]
  },
  {
   "cell_type": "code",
   "execution_count": 10,
   "metadata": {},
   "outputs": [
    {
     "data": {
      "text/plain": [
       "Timedelta('1233 days 13:27:31.039550496')"
      ]
     },
     "execution_count": 10,
     "metadata": {},
     "output_type": "execute_result"
    }
   ],
   "source": [
    "std_age = data['Date of birth'].std()\n",
    "std_age"
   ]
  },
  {
   "cell_type": "code",
   "execution_count": 11,
   "metadata": {},
   "outputs": [
    {
     "data": {
      "text/plain": [
       "Do you have any volunteering experience?\n",
       "No     38\n",
       "Yes    52\n",
       "dtype: int64"
      ]
     },
     "execution_count": 11,
     "metadata": {},
     "output_type": "execute_result"
    }
   ],
   "source": [
    "# Group by \"Do you have any volunteering experience?\" column and count occurrences\n",
    "counts_volunteering = data.groupby('Do you have any volunteering experience?').size()\n",
    "counts_volunteering"
   ]
  },
  {
   "cell_type": "code",
   "execution_count": 12,
   "metadata": {},
   "outputs": [
    {
     "data": {
      "image/png": "[encoded data removed]",
      "text/plain": [
       "<Figure size 640x480 with 1 Axes>"
      ]
     },
     "metadata": {},
     "output_type": "display_data"
    }
   ],
   "source": [
    "# Plot the counts\n",
    "plt.bar(counts_volunteering.index, counts_volunteering.values)\n",
    "plt.xlabel('Response')\n",
    "plt.ylabel('Count')\n",
    "plt.title('Volunteering Experience')\n",
    "plt.show()"
   ]
  },
  {
   "cell_type": "code",
   "execution_count": 13,
   "metadata": {},
   "outputs": [
    {
     "data": {
      "text/plain": [
       "Academic Year\n",
       "1st year    14\n",
       "2nd year    36\n",
       "3rd year    35\n",
       "4th year     4\n",
       "5th year     1\n",
       "dtype: int64"
      ]
     },
     "execution_count": 13,
     "metadata": {},
     "output_type": "execute_result"
    }
   ],
   "source": [
    "# Group by \"Academic Year\" column and count occurrences\n",
    "counts_year = data.groupby('Academic Year').size()\n",
    "counts_year"
   ]
  },
  {
   "cell_type": "code",
   "execution_count": 14,
   "metadata": {},
   "outputs": [
    {
     "data": {
      "image/png": "[encoded data removed]",
      "text/plain": [
       "<Figure size 640x480 with 1 Axes>"
      ]
     },
     "metadata": {},
     "output_type": "display_data"
    }
   ],
   "source": [
    "# Plot the counts\n",
    "plt.bar(counts_year.index, counts_year.values)\n",
    "plt.xlabel('Response')\n",
    "plt.ylabel('Count')\n",
    "plt.title('Academic Year')\n",
    "plt.show()"
   ]
  },
  {
   "cell_type": "code",
   "execution_count": 15,
   "metadata": {},
   "outputs": [
    {
     "data": {
      "text/plain": [
       "How did you hear about us?\n",
       "Facebook                                            25\n",
       "Facebook, Faculty colleagues                         4\n",
       "Facebook, Friends                                   22\n",
       "Facebook, Friends, Faculty colleagues               20\n",
       "Facebook, Instagram, Friends, Faculty colleagues     2\n",
       "Faculty colleagues                                   8\n",
       "Friends                                              8\n",
       "Friends, Faculty colleagues                          1\n",
       "dtype: int64"
      ]
     },
     "execution_count": 15,
     "metadata": {},
     "output_type": "execute_result"
    }
   ],
   "source": [
    "#How did you hear about us?\n",
    "# Group by \"Academic Year\" column and count occurrences\n",
    "counts_hearing = data.groupby('How did you hear about us?').size()\n",
    "counts_hearing"
   ]
  },
  {
   "cell_type": "code",
   "execution_count": 16,
   "metadata": {},
   "outputs": [
    {
     "data": {
      "image/png": "[encoded data removed]",
      "text/plain": [
       "<Figure size 640x480 with 1 Axes>"
      ]
     },
     "metadata": {},
     "output_type": "display_data"
    }
   ],
   "source": [
    "# Plot the counts\n",
    "plt.bar(counts_hearing.index, counts_hearing.values)\n",
    "plt.xlabel('Response')\n",
    "plt.ylabel('Count')\n",
    "plt.title('How did you hear about us?')\n",
    "\n",
    "# Rotate x-axis labels by 45 degrees\n",
    "plt.xticks(rotation=90)\n",
    "\n",
    "plt.show()"
   ]
  },
  {
   "cell_type": "code",
   "execution_count": 17,
   "metadata": {},
   "outputs": [
    {
     "data": {
      "text/plain": [
       "Timestamp('2022-05-16 14:19:37.358110976')"
      ]
     },
     "execution_count": 17,
     "metadata": {},
     "output_type": "execute_result"
    }
   ],
   "source": [
    "# Group by \"#Timestamp\" column and count occurrences\n",
    "counts_Timestamp = data['Timestamp'].mean()\n",
    "counts_Timestamp"
   ]
  },
  {
   "cell_type": "code",
   "execution_count": null,
   "metadata": {},
   "outputs": [],
   "source": []
  },
  {
   "cell_type": "code",
   "execution_count": null,
   "metadata": {},
   "outputs": [],
   "source": []
  }
 ],
 "metadata": {
  "kernelspec": {
   "display_name": "Python 3",
   "language": "python",
   "name": "python3"
  },
  "language_info": {
   "codemirror_mode": {
    "name": "ipython",
    "version": 3
   },
   "file_extension": ".py",
   "mimetype": "text/x-python",
   "name": "python",
   "nbconvert_exporter": "python",
   "pygments_lexer": "ipython3",
   "version": "3.11.3"
  },
  "orig_nbformat": 4
 },
 "nbformat": 4,
 "nbformat_minor": 2
}
