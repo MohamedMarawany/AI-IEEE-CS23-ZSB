{
 "cells": [
  {
   "cell_type": "markdown",
   "id": "caee930e",
   "metadata": {},
   "source": [
    "# Write a program that calculate the probabilty depending on the number of the apperance of either the head or the tail after many flips"
   ]
  },
  {
   "cell_type": "code",
   "execution_count": 15,
   "id": "a03089ea",
   "metadata": {},
   "outputs": [
    {
     "name": "stdout",
     "output_type": "stream",
     "text": [
      "Enter Number of flips: 3\n",
      "Head or Tail? head\n",
      "The number head of apperance: 2\n",
      "The Probabilty of head ( < 1) is: 0.5\n",
      "0.375\n"
     ]
    }
   ],
   "source": [
    "import math\n",
    "\n",
    "try:\n",
    "    num_flips = int(input(\"Enter Number of flips: \"))\n",
    "    type_flip = input(\"Head or Tail? \").strip().lower()\n",
    "    if type_flip not in [\"head\", \"tail\"]:\n",
    "        raise ValueError(\"Enter head or tail!\")\n",
    "    num_apper = int(input(f\"The number {type_flip} of apperance: \"))\n",
    "    num_prop = float(input(f\"The Probabilty of {type_flip} ( < 1) is: \"))\n",
    "    \n",
    "    if num_flips <= 0 or num_apper < 0 or num_prop < 0 or num_prop >= 1:\n",
    "        raise ValueError(\"Invalid input: inputs must be positive integers and probability must be between 0 and 1.\")\n",
    "    \n",
    "    #calc = ((num_prop**num_apper)*(num_flips-num_apper)*(1-num_prop)) * row_apper\n",
    "    calc = math.comb(num_flips, num_apper) * (num_prop ** num_apper) * ((1 - num_prop) ** (num_flips - num_apper))\n",
    "    print(f\"{calc:.3f}\")\n",
    "\n",
    "except ValueError as ve:\n",
    "    print(ve)\n",
    "\n",
    "except TypeError as te:\n",
    "    print(te)    "
   ]
  },
  {
   "cell_type": "code",
   "execution_count": null,
   "id": "61bb3efb",
   "metadata": {},
   "outputs": [],
   "source": []
  },
  {
   "cell_type": "code",
   "execution_count": null,
   "id": "2b17f312",
   "metadata": {},
   "outputs": [],
   "source": []
  }
 ],
 "metadata": {
  "kernelspec": {
   "display_name": "Python 3 (ipykernel)",
   "language": "python",
   "name": "python3"
  },
  "language_info": {
   "codemirror_mode": {
    "name": "ipython",
    "version": 3
   },
   "file_extension": ".py",
   "mimetype": "text/x-python",
   "name": "python",
   "nbconvert_exporter": "python",
   "pygments_lexer": "ipython3",
   "version": "3.9.12"
  }
 },
 "nbformat": 4,
 "nbformat_minor": 5
}
