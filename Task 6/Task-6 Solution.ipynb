{
 "cells": [
  {
   "cell_type": "markdown",
   "id": "030c028e",
   "metadata": {},
   "source": [
    "# 1- Create 3*3 array of diagonal nines\n"
   ]
  },
  {
   "cell_type": "code",
   "execution_count": 1,
   "id": "888de502",
   "metadata": {},
   "outputs": [],
   "source": [
    "import numpy as np"
   ]
  },
  {
   "cell_type": "code",
   "execution_count": 2,
   "id": "d356b998",
   "metadata": {},
   "outputs": [
    {
     "name": "stdout",
     "output_type": "stream",
     "text": [
      "[[9. 0. 0.]\n",
      " [0. 9. 0.]\n",
      " [0. 0. 9.]]\n"
     ]
    }
   ],
   "source": [
    "x = np.eye(3)*9\n",
    "print(x)"
   ]
  },
  {
   "cell_type": "markdown",
   "id": "bbf6264f",
   "metadata": {},
   "source": [
    "# 2- create 4*4 array get even numbers from 2 to 32 and use boolen to pick up values that is .5 standard diviasion of the mean"
   ]
  },
  {
   "cell_type": "code",
   "execution_count": 3,
   "id": "c8a2dd4e",
   "metadata": {},
   "outputs": [
    {
     "name": "stdout",
     "output_type": "stream",
     "text": [
      "[[ 2  4  6  8]\n",
      " [10 12 14 16]\n",
      " [18 20 22 24]\n",
      " [26 28 30 32]]\n"
     ]
    }
   ],
   "source": [
    "y = np.arange(2, 33, 2).reshape(4, 4)\n",
    "print(y)"
   ]
  },
  {
   "cell_type": "code",
   "execution_count": 4,
   "id": "e6e1a76e",
   "metadata": {},
   "outputs": [],
   "source": [
    "std_y = np.std(x)\n",
    "#print(std_y)\n",
    "#print(.5*std_y)\n",
    "#print(int(.5*std_y))\n",
    "mean_y = np.mean(y)\n",
    "#print(mean_y)"
   ]
  },
  {
   "cell_type": "code",
   "execution_count": 5,
   "id": "072501bb",
   "metadata": {},
   "outputs": [
    {
     "name": "stdout",
     "output_type": "stream",
     "text": [
      "[16 18]\n"
     ]
    }
   ],
   "source": [
    "#We Want Values of mean +- (0.5*STD)\n",
    "values = y[(y > (mean_y - (0.5*std_y))) & (y < (mean_y + (0.5*std_y)))] \n",
    "print(values)"
   ]
  },
  {
   "cell_type": "markdown",
   "id": "934e24a0",
   "metadata": {},
   "source": [
    "# 3- Create 3*3 array That Contains Only Zeros Of type int"
   ]
  },
  {
   "cell_type": "code",
   "execution_count": 6,
   "id": "fb9dca3c",
   "metadata": {},
   "outputs": [
    {
     "name": "stdout",
     "output_type": "stream",
     "text": [
      "[[0 0 0]\n",
      " [0 0 0]\n",
      " [0 0 0]]\n"
     ]
    }
   ],
   "source": [
    "z = np.zeros((3,3), dtype=int)\n",
    "print(z)"
   ]
  },
  {
   "cell_type": "markdown",
   "id": "7cba84e7",
   "metadata": {},
   "source": [
    "# 4- Ask The User For a number, then use BroadCasting to create a n*n array that has first colums full af ones,second colums full af twos, etc..."
   ]
  },
  {
   "cell_type": "code",
   "execution_count": 7,
   "id": "f0ab2fce",
   "metadata": {},
   "outputs": [
    {
     "name": "stdout",
     "output_type": "stream",
     "text": [
      "Enter a number : 5\n",
      "5\n"
     ]
    }
   ],
   "source": [
    "n = int(input(\"Enter a number : \"))\n",
    "print(n)"
   ]
  },
  {
   "cell_type": "code",
   "execution_count": 8,
   "id": "0491b2a7",
   "metadata": {},
   "outputs": [
    {
     "name": "stdout",
     "output_type": "stream",
     "text": [
      "[[1. 1. 1. 1. 1.]\n",
      " [1. 1. 1. 1. 1.]\n",
      " [1. 1. 1. 1. 1.]\n",
      " [1. 1. 1. 1. 1.]\n",
      " [1. 1. 1. 1. 1.]]\n"
     ]
    }
   ],
   "source": [
    "w = np.ones((n,n))\n",
    "print(w)"
   ]
  },
  {
   "cell_type": "code",
   "execution_count": 9,
   "id": "4c2fc273",
   "metadata": {},
   "outputs": [
    {
     "name": "stdout",
     "output_type": "stream",
     "text": [
      "[0 1 2 3 4]\n"
     ]
    }
   ],
   "source": [
    "q = np.arange(0,n)\n",
    "print(q)"
   ]
  },
  {
   "cell_type": "code",
   "execution_count": 10,
   "id": "edaa9d69",
   "metadata": {},
   "outputs": [
    {
     "name": "stdout",
     "output_type": "stream",
     "text": [
      "[[1. 2. 3. 4. 5.]\n",
      " [1. 2. 3. 4. 5.]\n",
      " [1. 2. 3. 4. 5.]\n",
      " [1. 2. 3. 4. 5.]\n",
      " [1. 2. 3. 4. 5.]]\n"
     ]
    }
   ],
   "source": [
    "print(w+q)"
   ]
  },
  {
   "cell_type": "code",
   "execution_count": null,
   "id": "9f80a854",
   "metadata": {},
   "outputs": [],
   "source": []
  },
  {
   "cell_type": "code",
   "execution_count": null,
   "id": "fc899cb9",
   "metadata": {},
   "outputs": [],
   "source": []
  }
 ],
 "metadata": {
  "kernelspec": {
   "display_name": "Python 3 (ipykernel)",
   "language": "python",
   "name": "python3"
  },
  "language_info": {
   "codemirror_mode": {
    "name": "ipython",
    "version": 3
   },
   "file_extension": ".py",
   "mimetype": "text/x-python",
   "name": "python",
   "nbconvert_exporter": "python",
   "pygments_lexer": "ipython3",
   "version": "3.9.12"
  }
 },
 "nbformat": 4,
 "nbformat_minor": 5
}
